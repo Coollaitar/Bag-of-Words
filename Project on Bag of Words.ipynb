{
 "cells": [
  {
   "cell_type": "markdown",
   "id": "7e96983c",
   "metadata": {},
   "source": [
    "## Importing Libraries"
   ]
  },
  {
   "cell_type": "code",
   "execution_count": 51,
   "id": "67d03dc2",
   "metadata": {},
   "outputs": [],
   "source": [
    "import nltk"
   ]
  },
  {
   "cell_type": "markdown",
   "id": "3964279a",
   "metadata": {},
   "source": [
    "## <font color='red'>Text</font> Data "
   ]
  },
  {
   "cell_type": "code",
   "execution_count": 52,
   "id": "807581c1",
   "metadata": {},
   "outputs": [],
   "source": [
    "text=\"The Fifa World Cup was held in Brazil. People had huge expectations that Brazil would be crowned the champions. However they were thrashed badly in the semi finals and eventually finished in the third place in the World Cup.\""
   ]
  },
  {
   "cell_type": "markdown",
   "id": "13f42f0e",
   "metadata": {},
   "source": [
    "## Lowercase"
   ]
  },
  {
   "cell_type": "code",
   "execution_count": 53,
   "id": "9299608f",
   "metadata": {},
   "outputs": [],
   "source": [
    "text=text.lower()"
   ]
  },
  {
   "cell_type": "markdown",
   "id": "9a66a592",
   "metadata": {},
   "source": [
    "## <font color='red'>Remove</font> Fullstop (Text Cleaning)"
   ]
  },
  {
   "cell_type": "code",
   "execution_count": 54,
   "id": "3650b57f",
   "metadata": {},
   "outputs": [
    {
     "name": "stdout",
     "output_type": "stream",
     "text": [
      "the fifa world cup was held in brazil people had huge expectations that brazil would be crowned the champions however they were thrashed badly in the semi finals and eventually finished in the third place in the world cup\n"
     ]
    }
   ],
   "source": [
    "import re\n",
    "remove = \"[.]\"\n",
    "matches = re.sub(remove,\"\",text)\n",
    "print(matches)"
   ]
  },
  {
   "cell_type": "markdown",
   "id": "5d859458",
   "metadata": {},
   "source": [
    "## Word Tokenize (Separate Words)"
   ]
  },
  {
   "cell_type": "code",
   "execution_count": 55,
   "id": "2d2af373",
   "metadata": {},
   "outputs": [],
   "source": [
    "from nltk.tokenize import word_tokenize"
   ]
  },
  {
   "cell_type": "code",
   "execution_count": 56,
   "id": "d078c884",
   "metadata": {},
   "outputs": [],
   "source": [
    "result=word_tokenize(matches)"
   ]
  },
  {
   "cell_type": "code",
   "execution_count": 57,
   "id": "308b441b",
   "metadata": {},
   "outputs": [
    {
     "name": "stdout",
     "output_type": "stream",
     "text": [
      "['the', 'fifa', 'world', 'cup', 'was', 'held', 'in', 'brazil', 'people', 'had', 'huge', 'expectations', 'that', 'brazil', 'would', 'be', 'crowned', 'the', 'champions', 'however', 'they', 'were', 'thrashed', 'badly', 'in', 'the', 'semi', 'finals', 'and', 'eventually', 'finished', 'in', 'the', 'third', 'place', 'in', 'the', 'world', 'cup']\n"
     ]
    }
   ],
   "source": [
    "print(result)"
   ]
  },
  {
   "cell_type": "markdown",
   "id": "48f0af63",
   "metadata": {},
   "source": [
    "## <font color='red'>Count</font> of Each Word"
   ]
  },
  {
   "cell_type": "code",
   "execution_count": 58,
   "id": "ba5a39dd",
   "metadata": {},
   "outputs": [],
   "source": [
    "count=0"
   ]
  },
  {
   "cell_type": "code",
   "execution_count": 59,
   "id": "5d72b2cd",
   "metadata": {
    "scrolled": true
   },
   "outputs": [
    {
     "name": "stdout",
     "output_type": "stream",
     "text": [
      "the 5\n",
      "fifa 1\n",
      "world 2\n",
      "cup 2\n",
      "was 1\n",
      "held 1\n",
      "in 4\n",
      "brazil 2\n",
      "people 1\n",
      "had 1\n",
      "huge 1\n",
      "expectations 1\n",
      "that 1\n",
      "brazil 2\n",
      "would 1\n",
      "be 1\n",
      "crowned 1\n",
      "the 5\n",
      "champions 1\n",
      "however 1\n",
      "they 1\n",
      "were 1\n",
      "thrashed 1\n",
      "badly 1\n",
      "in 4\n",
      "the 5\n",
      "semi 1\n",
      "finals 1\n",
      "and 1\n",
      "eventually 1\n",
      "finished 1\n",
      "in 4\n",
      "the 5\n",
      "third 1\n",
      "place 1\n",
      "in 4\n",
      "the 5\n",
      "world 2\n",
      "cup 2\n"
     ]
    }
   ],
   "source": [
    "for i in range(0,len(result)):\n",
    "    for j in range(0,len(result)):\n",
    "        if(result[i]==result[j]):\n",
    "            count=count+1\n",
    "    print(result[i],count)\n",
    "    count=0"
   ]
  },
  {
   "cell_type": "markdown",
   "id": "5c0a0b7a",
   "metadata": {},
   "source": [
    "## <font color='green'>Text</font> Data "
   ]
  },
  {
   "cell_type": "code",
   "execution_count": 60,
   "id": "2f579af2",
   "metadata": {},
   "outputs": [],
   "source": [
    "text=\"Cricket team saw a transition after 2011 World Cup. Senior players were dropped and youngsters were given the chances\""
   ]
  },
  {
   "cell_type": "markdown",
   "id": "4b0f919e",
   "metadata": {},
   "source": [
    "## Lowercase"
   ]
  },
  {
   "cell_type": "code",
   "execution_count": 61,
   "id": "e06c533d",
   "metadata": {},
   "outputs": [
    {
     "name": "stdout",
     "output_type": "stream",
     "text": [
      "cricket team saw a transition after 2011 world cup. senior players were dropped and youngsters were given the chances\n"
     ]
    }
   ],
   "source": [
    "text = text.lower()\n",
    "print(text)"
   ]
  },
  {
   "cell_type": "markdown",
   "id": "322a1e39",
   "metadata": {},
   "source": [
    "## <font color='green'>Remove</font> Fullstop"
   ]
  },
  {
   "cell_type": "code",
   "execution_count": 62,
   "id": "85a42b38",
   "metadata": {},
   "outputs": [
    {
     "name": "stdout",
     "output_type": "stream",
     "text": [
      "cricket team saw a transition after 2011 world cup senior players were dropped and youngsters were given the chances\n"
     ]
    }
   ],
   "source": [
    "import re\n",
    "remove = \"[.]\"\n",
    "matches = re.sub(remove,\"\",text)\n",
    "print(matches)"
   ]
  },
  {
   "cell_type": "markdown",
   "id": "9dfcfbf3",
   "metadata": {},
   "source": [
    "## Word Tokenize (Separate Words)"
   ]
  },
  {
   "cell_type": "code",
   "execution_count": 63,
   "id": "9f9c25e0",
   "metadata": {},
   "outputs": [],
   "source": [
    "from nltk import word_tokenize"
   ]
  },
  {
   "cell_type": "code",
   "execution_count": 64,
   "id": "230bb595",
   "metadata": {},
   "outputs": [],
   "source": [
    "result=word_tokenize(matches)"
   ]
  },
  {
   "cell_type": "code",
   "execution_count": 65,
   "id": "8f2db1c0",
   "metadata": {
    "scrolled": true
   },
   "outputs": [
    {
     "name": "stdout",
     "output_type": "stream",
     "text": [
      "['cricket', 'team', 'saw', 'a', 'transition', 'after', '2011', 'world', 'cup', 'senior', 'players', 'were', 'dropped', 'and', 'youngsters', 'were', 'given', 'the', 'chances']\n"
     ]
    }
   ],
   "source": [
    "print(result)"
   ]
  },
  {
   "cell_type": "markdown",
   "id": "1139f934",
   "metadata": {},
   "source": [
    "## <font color='green'>Count</font> of Each Word"
   ]
  },
  {
   "cell_type": "code",
   "execution_count": 66,
   "id": "11b10586",
   "metadata": {},
   "outputs": [],
   "source": [
    "count = 0"
   ]
  },
  {
   "cell_type": "code",
   "execution_count": 67,
   "id": "0d937a9f",
   "metadata": {
    "scrolled": true
   },
   "outputs": [
    {
     "name": "stdout",
     "output_type": "stream",
     "text": [
      "cricket 1\n",
      "team 1\n",
      "saw 1\n",
      "a 1\n",
      "transition 1\n",
      "after 1\n",
      "2011 1\n",
      "world 1\n",
      "cup 1\n",
      "senior 1\n",
      "players 1\n",
      "were 1\n",
      "were 2\n",
      "dropped 1\n",
      "and 1\n",
      "youngsters 1\n",
      "were 1\n",
      "were 2\n",
      "given 1\n",
      "the 1\n",
      "chances 1\n"
     ]
    }
   ],
   "source": [
    "for i in range(0,len(result)):\n",
    "    for j in range(0,len(result)):\n",
    "        if(result[i]==result[j]):\n",
    "            count=count+1\n",
    "            print(result[i],count)\n",
    "    count=0"
   ]
  },
  {
   "cell_type": "markdown",
   "id": "dd3b1d5d",
   "metadata": {},
   "source": [
    "## Tagging Each Word"
   ]
  },
  {
   "cell_type": "code",
   "execution_count": 68,
   "id": "d2b39e93",
   "metadata": {},
   "outputs": [],
   "source": [
    "final=nltk.pos_tag(result)"
   ]
  },
  {
   "cell_type": "code",
   "execution_count": 69,
   "id": "f1eadd00",
   "metadata": {
    "scrolled": true
   },
   "outputs": [
    {
     "data": {
      "text/plain": [
       "[('cricket', 'NN'),\n",
       " ('team', 'NN'),\n",
       " ('saw', 'VBD'),\n",
       " ('a', 'DT'),\n",
       " ('transition', 'NN'),\n",
       " ('after', 'IN'),\n",
       " ('2011', 'CD'),\n",
       " ('world', 'NN'),\n",
       " ('cup', 'NN'),\n",
       " ('senior', 'JJ'),\n",
       " ('players', 'NNS'),\n",
       " ('were', 'VBD'),\n",
       " ('dropped', 'VBN'),\n",
       " ('and', 'CC'),\n",
       " ('youngsters', 'NNS'),\n",
       " ('were', 'VBD'),\n",
       " ('given', 'VBN'),\n",
       " ('the', 'DT'),\n",
       " ('chances', 'NNS')]"
      ]
     },
     "execution_count": 69,
     "metadata": {},
     "output_type": "execute_result"
    }
   ],
   "source": [
    "final"
   ]
  },
  {
   "cell_type": "markdown",
   "id": "a7ecdf1e",
   "metadata": {},
   "source": [
    "## Information of Each Tag"
   ]
  },
  {
   "cell_type": "code",
   "execution_count": 70,
   "id": "6b4ee124",
   "metadata": {},
   "outputs": [
    {
     "name": "stdout",
     "output_type": "stream",
     "text": [
      "DT: determiner\n",
      "    all an another any both del each either every half la many much nary\n",
      "    neither no some such that the them these this those\n"
     ]
    }
   ],
   "source": [
    "nltk.help.upenn_tagset('DT')"
   ]
  },
  {
   "cell_type": "code",
   "execution_count": 71,
   "id": "7718ec51",
   "metadata": {},
   "outputs": [
    {
     "name": "stdout",
     "output_type": "stream",
     "text": [
      "VBD: verb, past tense\n",
      "    dipped pleaded swiped regummed soaked tidied convened halted registered\n",
      "    cushioned exacted snubbed strode aimed adopted belied figgered\n",
      "    speculated wore appreciated contemplated ...\n"
     ]
    }
   ],
   "source": [
    "nltk.help.upenn_tagset('VBD')"
   ]
  },
  {
   "cell_type": "markdown",
   "id": "f6d2b894",
   "metadata": {},
   "source": [
    "## <font color='violet'>Matching</font> "
   ]
  },
  {
   "cell_type": "code",
   "execution_count": 72,
   "id": "59c206c8",
   "metadata": {},
   "outputs": [
    {
     "name": "stdout",
     "output_type": "stream",
     "text": [
      "a\n",
      "the\n"
     ]
    }
   ],
   "source": [
    "for i in range(0,len(final)):\n",
    "    if(final[i][1]=='DT'):\n",
    "        print(final[i][0])"
   ]
  },
  {
   "cell_type": "code",
   "execution_count": null,
   "id": "4c2c67d7",
   "metadata": {},
   "outputs": [],
   "source": []
  }
 ],
 "metadata": {
  "kernelspec": {
   "display_name": "Python 3",
   "language": "python",
   "name": "python3"
  },
  "language_info": {
   "codemirror_mode": {
    "name": "ipython",
    "version": 3
   },
   "file_extension": ".py",
   "mimetype": "text/x-python",
   "name": "python",
   "nbconvert_exporter": "python",
   "pygments_lexer": "ipython3",
   "version": "3.8.8"
  }
 },
 "nbformat": 4,
 "nbformat_minor": 5
}
