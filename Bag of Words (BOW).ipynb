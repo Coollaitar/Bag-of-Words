{
 "cells": [
  {
   "cell_type": "markdown",
   "id": "86fbe8bf",
   "metadata": {},
   "source": [
    "## Importing NLTK library"
   ]
  },
  {
   "cell_type": "code",
   "execution_count": 22,
   "id": "bad8a7f1",
   "metadata": {},
   "outputs": [],
   "source": [
    "import nltk"
   ]
  },
  {
   "cell_type": "code",
   "execution_count": 2,
   "id": "59622706",
   "metadata": {},
   "outputs": [],
   "source": [
    "text=\"The Fifa World Cup was held in Brazil. People had huge expectations that Brazil would be crowned the champions. However they were thrashed badly in the semi finals and eventually finished in the third place in the World Cup.\""
   ]
  },
  {
   "cell_type": "markdown",
   "id": "963afc74",
   "metadata": {},
   "source": [
    "## Converting Text into Lower Case"
   ]
  },
  {
   "cell_type": "code",
   "execution_count": 3,
   "id": "73263dc0",
   "metadata": {},
   "outputs": [],
   "source": [
    "text = text.lower()"
   ]
  },
  {
   "cell_type": "markdown",
   "id": "eab10712",
   "metadata": {},
   "source": [
    "## Tokenization (Separate all Words)"
   ]
  },
  {
   "cell_type": "code",
   "execution_count": 23,
   "id": "2843ffdc",
   "metadata": {},
   "outputs": [],
   "source": [
    "from nltk.tokenize import word_tokenize"
   ]
  },
  {
   "cell_type": "code",
   "execution_count": 5,
   "id": "f55b3939",
   "metadata": {},
   "outputs": [],
   "source": [
    "result = word_tokenize(text)"
   ]
  },
  {
   "cell_type": "code",
   "execution_count": 6,
   "id": "18f28437",
   "metadata": {
    "scrolled": true
   },
   "outputs": [
    {
     "name": "stdout",
     "output_type": "stream",
     "text": [
      "['the', 'fifa', 'world', 'cup', 'was', 'held', 'in', 'brazil', '.', 'people', 'had', 'huge', 'expectations', 'that', 'brazil', 'would', 'be', 'crowned', 'the', 'champions', '.', 'however', 'they', 'were', 'thrashed', 'badly', 'in', 'the', 'semi', 'finals', 'and', 'eventually', 'finished', 'in', 'the', 'third', 'place', 'in', 'the', 'world', 'cup', '.']\n"
     ]
    }
   ],
   "source": [
    "print(result)"
   ]
  },
  {
   "cell_type": "markdown",
   "id": "5ade959e",
   "metadata": {},
   "source": [
    "## Creating a Word Count"
   ]
  },
  {
   "cell_type": "code",
   "execution_count": 8,
   "id": "3dd1f84e",
   "metadata": {},
   "outputs": [],
   "source": [
    "count = 0"
   ]
  },
  {
   "cell_type": "code",
   "execution_count": 9,
   "id": "5e638ea6",
   "metadata": {
    "scrolled": true
   },
   "outputs": [
    {
     "name": "stdout",
     "output_type": "stream",
     "text": [
      "the 5\n",
      "fifa 1\n",
      "world 2\n",
      "cup 2\n",
      "was 1\n",
      "held 1\n",
      "in 4\n",
      "brazil 2\n",
      ". 3\n",
      "people 1\n",
      "had 1\n",
      "huge 1\n",
      "expectations 1\n",
      "that 1\n",
      "brazil 2\n",
      "would 1\n",
      "be 1\n",
      "crowned 1\n",
      "the 5\n",
      "champions 1\n",
      ". 3\n",
      "however 1\n",
      "they 1\n",
      "were 1\n",
      "thrashed 1\n",
      "badly 1\n",
      "in 4\n",
      "the 5\n",
      "semi 1\n",
      "finals 1\n",
      "and 1\n",
      "eventually 1\n",
      "finished 1\n",
      "in 4\n",
      "the 5\n",
      "third 1\n",
      "place 1\n",
      "in 4\n",
      "the 5\n",
      "world 2\n",
      "cup 2\n",
      ". 3\n"
     ]
    }
   ],
   "source": [
    "for i in range(0,len(result)):\n",
    "    for j in range(0,len(result)):\n",
    "        if(result[i]==result[j]):\n",
    "            count=count+1\n",
    "    print(result[i],count)\n",
    "    count=0"
   ]
  },
  {
   "cell_type": "markdown",
   "id": "203fe46d",
   "metadata": {},
   "source": [
    "## Another Example"
   ]
  },
  {
   "cell_type": "code",
   "execution_count": 10,
   "id": "085d47f4",
   "metadata": {},
   "outputs": [],
   "source": [
    "text=\"Cricket team saw a transition after 2011 World Cup. Senior players were dropped and youngsters were given the chances\""
   ]
  },
  {
   "cell_type": "markdown",
   "id": "eeb78662",
   "metadata": {},
   "source": [
    "## Converting Text into Lower Case"
   ]
  },
  {
   "cell_type": "code",
   "execution_count": 26,
   "id": "755010b0",
   "metadata": {},
   "outputs": [],
   "source": [
    "text = text.lower()"
   ]
  },
  {
   "cell_type": "markdown",
   "id": "f96ea766",
   "metadata": {},
   "source": [
    "## Tokenization (Separate all the Words)"
   ]
  },
  {
   "cell_type": "code",
   "execution_count": 27,
   "id": "364684e7",
   "metadata": {},
   "outputs": [],
   "source": [
    "result = word_tokenize(text)"
   ]
  },
  {
   "cell_type": "code",
   "execution_count": 28,
   "id": "c065b006",
   "metadata": {
    "scrolled": false
   },
   "outputs": [
    {
     "name": "stdout",
     "output_type": "stream",
     "text": [
      "['cricket', 'team', 'saw', 'a', 'transition', 'after', '2011', 'world', 'cup', '.', 'senior', 'players', 'were', 'dropped', 'and', 'youngsters', 'were', 'given', 'the', 'chances']\n"
     ]
    }
   ],
   "source": [
    "print(result)"
   ]
  },
  {
   "cell_type": "markdown",
   "id": "a90c82cb",
   "metadata": {},
   "source": [
    "## Creating a Word Count"
   ]
  },
  {
   "cell_type": "code",
   "execution_count": 29,
   "id": "1f2cde2f",
   "metadata": {},
   "outputs": [],
   "source": [
    "count = 0"
   ]
  },
  {
   "cell_type": "code",
   "execution_count": 30,
   "id": "baaf93d9",
   "metadata": {},
   "outputs": [
    {
     "name": "stdout",
     "output_type": "stream",
     "text": [
      "cricket 1\n",
      "team 1\n",
      "saw 1\n",
      "a 1\n",
      "transition 1\n",
      "after 1\n",
      "2011 1\n",
      "world 1\n",
      "cup 1\n",
      ". 1\n",
      "senior 1\n",
      "players 1\n",
      "were 2\n",
      "dropped 1\n",
      "and 1\n",
      "youngsters 1\n",
      "were 2\n",
      "given 1\n",
      "the 1\n",
      "chances 1\n"
     ]
    }
   ],
   "source": [
    "for i in range(0,len(result)):\n",
    "    for j in range(0,len(result)):\n",
    "        if(result[i]==result[j]):\n",
    "            count = count+1\n",
    "    print(result[i],count)\n",
    "    count = 0\n"
   ]
  },
  {
   "cell_type": "markdown",
   "id": "cbd0395e",
   "metadata": {},
   "source": [
    "## Position Tagging"
   ]
  },
  {
   "cell_type": "code",
   "execution_count": 31,
   "id": "97de3702",
   "metadata": {},
   "outputs": [],
   "source": [
    "final = nltk.pos_tag(result)"
   ]
  },
  {
   "cell_type": "code",
   "execution_count": 32,
   "id": "e70483a6",
   "metadata": {
    "scrolled": true
   },
   "outputs": [
    {
     "name": "stdout",
     "output_type": "stream",
     "text": [
      "[('cricket', 'NN'), ('team', 'NN'), ('saw', 'VBD'), ('a', 'DT'), ('transition', 'NN'), ('after', 'IN'), ('2011', 'CD'), ('world', 'NN'), ('cup', 'NN'), ('.', '.'), ('senior', 'JJ'), ('players', 'NNS'), ('were', 'VBD'), ('dropped', 'VBN'), ('and', 'CC'), ('youngsters', 'NNS'), ('were', 'VBD'), ('given', 'VBN'), ('the', 'DT'), ('chances', 'NNS')]\n"
     ]
    }
   ],
   "source": [
    "print(final)"
   ]
  },
  {
   "cell_type": "markdown",
   "id": "9517c340",
   "metadata": {},
   "source": [
    "## .help helps to find the Meaning of each Tag"
   ]
  },
  {
   "cell_type": "code",
   "execution_count": 35,
   "id": "42971f01",
   "metadata": {},
   "outputs": [
    {
     "name": "stdout",
     "output_type": "stream",
     "text": [
      "DT: determiner\n",
      "    all an another any both del each either every half la many much nary\n",
      "    neither no some such that the them these this those\n"
     ]
    }
   ],
   "source": [
    "nltk.help.upenn_tagset('DT')"
   ]
  },
  {
   "cell_type": "markdown",
   "id": "f4d3224c",
   "metadata": {},
   "source": [
    "## Printing the words according to particular Tags"
   ]
  },
  {
   "cell_type": "code",
   "execution_count": 34,
   "id": "9f796b31",
   "metadata": {},
   "outputs": [
    {
     "name": "stdout",
     "output_type": "stream",
     "text": [
      "a\n",
      "the\n"
     ]
    }
   ],
   "source": [
    "# total determiner in the \"text\"\n",
    "for i in range(0,len(final)):\n",
    "    if(final[i][1]=='DT'):\n",
    "        print(final[i][0])"
   ]
  },
  {
   "cell_type": "markdown",
   "id": "a0770fd0",
   "metadata": {},
   "source": [
    "## Will add Stopwords and other codes earliest.........."
   ]
  }
 ],
 "metadata": {
  "kernelspec": {
   "display_name": "Python 3",
   "language": "python",
   "name": "python3"
  },
  "language_info": {
   "codemirror_mode": {
    "name": "ipython",
    "version": 3
   },
   "file_extension": ".py",
   "mimetype": "text/x-python",
   "name": "python",
   "nbconvert_exporter": "python",
   "pygments_lexer": "ipython3",
   "version": "3.8.8"
  }
 },
 "nbformat": 4,
 "nbformat_minor": 5
}
